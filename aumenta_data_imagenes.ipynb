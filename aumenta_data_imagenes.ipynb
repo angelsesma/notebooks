{
  "nbformat": 4,
  "nbformat_minor": 0,
  "metadata": {
    "colab": {
      "name": "aumenta_data_imagenes.ipynb",
      "provenance": [],
      "mount_file_id": "17aTtzPOyM_4-XRjiLgfRmp3t0LDEPtbu",
      "authorship_tag": "ABX9TyM2+rmEAeiZNVenwG1c3Fwb"
    },
    "kernelspec": {
      "name": "python3",
      "display_name": "Python 3"
    },
    "language_info": {
      "name": "python"
    }
  },
  "cells": [
    {
      "cell_type": "code",
      "metadata": {
        "id": "ZxHZD0Hsjsjx"
      },
      "source": [
        "\n",
        "DATA_PATH = \"RUTA A DIRECTORIO DE IMAGENES(NO DEBE HABER OTROS ARCHIVOS/CARPETAS DENTRO)\" #@param"
      ],
      "execution_count": null,
      "outputs": []
    },
    {
      "cell_type": "code",
      "metadata": {
        "colab": {
          "base_uri": "https://localhost:8080/"
        },
        "id": "QREhql8zkIqO",
        "outputId": "8b708089-534b-421b-e2af-a9bf6b78fec5"
      },
      "source": [
        "import numpy as np\n",
        "from PIL import Image, ImageOps\n",
        "from tqdm import tqdm\n",
        "import os \n",
        "import time\n",
        "import matplotlib.pyplot as plt\n",
        "faces_path = os.path.join(DATA_PATH,'') \n",
        "kk=0\n",
        "for filename in tqdm(os.listdir(faces_path)):\n",
        "      kk = kk+1\n",
        "      path = os.path.join(faces_path,filename)\n",
        "      image = Image.open(path).convert('RGB').resize((128, 128),Image.ANTIALIAS)\n",
        "      image_45 = image.rotate(45).resize((128,128,),Image.ANTIALIAS)\n",
        "      image_90 = image.rotate(90)\n",
        "      image_bw = image.convert('L')\n",
        "      image_cw = image_bw.convert('1')\n",
        "      im_sol130 = ImageOps.solarize(image, threshold = 130) \n",
        "      im_sol70 = ImageOps.solarize(image, threshold =70)\n",
        "      im_sol10 = ImageOps.solarize(image, threshold =10)\n",
        "      im_sol10 = im_sol10.save(f\"{faces_path}{kk}_s1.jpg\")\n",
        "      im_sol70 = im_sol70.save(f\"{faces_path}{kk}_s7.jpg\")\n",
        "      im_sol130 = im_sol130.save(f\"{faces_path}{kk}_s13.jpg\")\n",
        "      image_cw = image_cw.save(f\"{faces_path}{kk}_cw.jpg\")\n",
        "      image_bw = image_bw.save(f\"{faces_path}{kk}_bw.jpg\")\n",
        "      image_90 = image_90.save(f\"{faces_path}{kk}_90.jpg\")\n",
        "      image_45 = image_45.save(f\"{faces_path}{kk}_45.jpg\")\n",
        "      image = image.save(f\"{faces_path}{kk}_.jpg\")"
      ],
      "execution_count": null,
      "outputs": [
        {
          "output_type": "stream",
          "text": [
            "\n",
            "\n",
            "  0%|          | 0/22 [00:00<?, ?it/s]\u001b[A\u001b[A\n",
            "\n",
            "  9%|▉         | 2/22 [00:00<00:01, 15.28it/s]\u001b[A\u001b[A\n",
            "\n",
            " 18%|█▊        | 4/22 [00:00<00:01, 14.87it/s]\u001b[A\u001b[A\n",
            "\n",
            " 27%|██▋       | 6/22 [00:00<00:01, 14.25it/s]\u001b[A\u001b[A\n",
            "\n",
            " 32%|███▏      | 7/22 [00:00<00:01, 12.25it/s]\u001b[A\u001b[A\n",
            "\n",
            " 41%|████      | 9/22 [00:00<00:01, 12.77it/s]\u001b[A\u001b[A\n",
            "\n",
            " 50%|█████     | 11/22 [00:00<00:00, 13.75it/s]\u001b[A\u001b[A\n",
            "\n",
            " 59%|█████▉    | 13/22 [00:00<00:00, 13.76it/s]\u001b[A\u001b[A\n",
            "\n",
            " 68%|██████▊   | 15/22 [00:01<00:00, 13.24it/s]\u001b[A\u001b[A\n",
            "\n",
            " 77%|███████▋  | 17/22 [00:01<00:00, 13.36it/s]\u001b[A\u001b[A\n",
            "\n",
            " 86%|████████▋ | 19/22 [00:01<00:00, 13.53it/s]\u001b[A\u001b[A\n",
            "\n",
            "100%|██████████| 22/22 [00:01<00:00, 13.69it/s]\n"
          ],
          "name": "stderr"
        }
      ]
    },
    {
      "cell_type": "markdown",
      "metadata": {
        "id": "vKDRB_dOxqum"
      },
      "source": [
        ""
      ]
    }
  ]
}